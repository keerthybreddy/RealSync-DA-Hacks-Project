{
 "cells": [
  {
   "cell_type": "code",
   "execution_count": 2,
   "metadata": {},
   "outputs": [
    {
     "name": "stdout",
     "output_type": "stream",
     "text": [
      "Successfully generated 10 people\n",
      "\n",
      "\n",
      "\n",
      "              Name  Gender       City              State  \\\n",
      "0  Loretta Steward  female  Traralgon    South Australia   \n",
      "1    Giray Köybaşı    male     Artvin              Çorum   \n",
      "2  Wolfram Nußbaum    male   Bürstadt  Baden-Württemberg   \n",
      "3    Tito Silveira    male    Pinhais   Distrito Federal   \n",
      "4       Joel Kalas    male  Sastamala          Satakunta   \n",
      "\n",
      "                          Email                       DOB  \\\n",
      "0   loretta.steward@example.com  1947-01-16T14:28:29.238Z   \n",
      "1     giray.koybasi@example.com  1950-09-02T23:18:37.120Z   \n",
      "2  wolfram.nussbaum@example.com  1946-06-10T09:35:24.377Z   \n",
      "3     tito.silveira@example.com  1945-11-28T01:56:33.478Z   \n",
      "4        joel.kalas@example.com  1960-11-16T18:25:44.694Z   \n",
      "\n",
      "                                            Picture  \n",
      "0  https://randomuser.me/api/portraits/women/35.jpg  \n",
      "1    https://randomuser.me/api/portraits/men/97.jpg  \n",
      "2    https://randomuser.me/api/portraits/men/42.jpg  \n",
      "3    https://randomuser.me/api/portraits/men/56.jpg  \n",
      "4    https://randomuser.me/api/portraits/men/19.jpg  \n"
     ]
    }
   ],
   "source": [
    "from randomuser import RandomUser\n",
    "import pandas as pd\n",
    "import os\n",
    "\n",
    "r = RandomUser()\n",
    "\n",
    "def get_users():\n",
    "    users =[]\n",
    "     \n",
    "    for user in RandomUser.generate_users(10):\n",
    "        users.append({\"Name\":user.get_full_name(),\"Gender\":user.get_gender(),\"City\":user.get_city(),\"State\":user.get_state(),\"Email\":user.get_email(), \"DOB\":user.get_dob(),\"Picture\":user.get_picture()})\n",
    "      \n",
    "    return pd.DataFrame(users)     \n",
    "\n",
    "df1 = pd.DataFrame(get_users())  \n",
    "\n",
    "print('Successfully generated 10 people')\n",
    "print('')\n",
    "print('')\n",
    "print('')\n",
    "print(df1.head())\n",
    "\n",
    "df1.to_json('.\\people_bank\\\\test.json')\n"
   ]
  },
  {
   "cell_type": "code",
   "execution_count": 4,
   "metadata": {},
   "outputs": [
    {
     "name": "stdout",
     "output_type": "stream",
     "text": [
      "Successfully generated 100\n",
      "\n",
      "\n",
      "\n",
      "             Name  Gender          City                      State  \\\n",
      "0  Yosef Driessen    male       't Waar                  Flevoland   \n",
      "1  Nilo Fernandes    male      Londrina                 Pernambuco   \n",
      "2     Sophia Brar  female       Selkirk  Newfoundland and Labrador   \n",
      "3  Cecilie Møller  female  Fredeikssund                   Sjælland   \n",
      "4   Tatiana Gomes  female      Camaçari                  Tocantins   \n",
      "\n",
      "                        Email                       DOB  \\\n",
      "0  yosef.driessen@example.com  1972-11-23T19:08:16.254Z   \n",
      "1  nilo.fernandes@example.com  1973-09-21T02:03:18.146Z   \n",
      "2     sophia.brar@example.com  1961-03-13T01:52:35.701Z   \n",
      "3  cecilie.moller@example.com  1981-01-12T07:44:41.989Z   \n",
      "4   tatiana.gomes@example.com  1982-06-27T10:02:54.025Z   \n",
      "\n",
      "                                            Picture  \n",
      "0    https://randomuser.me/api/portraits/men/51.jpg  \n",
      "1    https://randomuser.me/api/portraits/men/82.jpg  \n",
      "2  https://randomuser.me/api/portraits/women/94.jpg  \n",
      "3  https://randomuser.me/api/portraits/women/32.jpg  \n",
      "4  https://randomuser.me/api/portraits/women/13.jpg  \n"
     ]
    }
   ],
   "source": [
    "from randomuser import RandomUser\n",
    "import pandas as pd\n",
    "import os\n",
    "\n",
    "r = RandomUser()\n",
    "\n",
    "numPeople = int(input(\"How many people would you like to generate? \"))\n",
    "\n",
    "def get_users():\n",
    "    users =[]\n",
    "     \n",
    "    for user in RandomUser.generate_users(numPeople):\n",
    "        users.append({\"Name\":user.get_full_name(),\"Gender\":user.get_gender(),\"City\":user.get_city(),\"State\":user.get_state(),\"Email\":user.get_email(), \"DOB\":user.get_dob(),\"Picture\":user.get_picture()})\n",
    "      \n",
    "    return pd.DataFrame(users)     \n",
    "\n",
    "df1 = pd.DataFrame(get_users())  \n",
    "\n",
    "print('Successfully generated %d' %numPeople)\n",
    "print('')\n",
    "print('')\n",
    "print('')\n",
    "print(df1.head())\n",
    "\n",
    "fileName = str(input(\"Type File Name (do not include .json): \"))\n",
    "\n",
    "df1.to_json('.\\people_bank\\\\%s.json' %fileName)\n"
   ]
  },
  {
   "cell_type": "code",
   "execution_count": 6,
   "metadata": {},
   "outputs": [],
   "source": [
    "import openpyxl\n",
    "df1.to_excel('./people_bank/first100.xlsx')"
   ]
  },
  {
   "cell_type": "code",
   "execution_count": null,
   "metadata": {},
   "outputs": [],
   "source": []
  }
 ],
 "metadata": {
  "kernelspec": {
   "display_name": "Python 3.10.7 64-bit (microsoft store)",
   "language": "python",
   "name": "python3"
  },
  "language_info": {
   "codemirror_mode": {
    "name": "ipython",
    "version": 3
   },
   "file_extension": ".py",
   "mimetype": "text/x-python",
   "name": "python",
   "nbconvert_exporter": "python",
   "pygments_lexer": "ipython3",
   "version": "3.10.7"
  },
  "orig_nbformat": 4,
  "vscode": {
   "interpreter": {
    "hash": "316074517b5fe31c6053ad3df028de4621616c745734923c4443afbd31c8a500"
   }
  }
 },
 "nbformat": 4,
 "nbformat_minor": 2
}
