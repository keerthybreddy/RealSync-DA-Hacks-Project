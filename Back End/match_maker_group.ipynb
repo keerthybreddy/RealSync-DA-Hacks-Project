{
 "cells": [
  {
   "cell_type": "markdown",
   "metadata": {},
   "source": [
    "Now, I want to be able to, if given a file, use the compatibility function to output the person\n",
    "with the highest compat score"
   ]
  },
  {
   "cell_type": "code",
   "execution_count": 27,
   "metadata": {},
   "outputs": [],
   "source": [
    "from match1_maker import compat\n",
    "import os"
   ]
  },
  {
   "cell_type": "code",
   "execution_count": 28,
   "metadata": {},
   "outputs": [
    {
     "data": {
      "text/plain": [
       "'74'"
      ]
     },
     "execution_count": 28,
     "metadata": {},
     "output_type": "execute_result"
    }
   ],
   "source": [
    "compat('./processed_people/SydneySteinfield.json','./processed_people/JerrySteinfield.json')"
   ]
  },
  {
   "cell_type": "code",
   "execution_count": 39,
   "metadata": {},
   "outputs": [
    {
     "name": "stdout",
     "output_type": "stream",
     "text": [
      "Compat between ./processed_people/ThomasLi.json and JerrySteinfield.json is 49\n",
      "Compat between ./processed_people/ThomasLi.json and JessieLi.json is 84\n",
      "Compat between ./processed_people/ThomasLi.json and JonasLeeMysterio.json is 62\n",
      "Compat between ./processed_people/ThomasLi.json and SydneySteinfield.json is 35\n",
      "84\n",
      "JessieLi.json\n"
     ]
    }
   ],
   "source": [
    "file = './processed_people/ThomasLi.json'\n",
    "score_list = []\n",
    "score_dict = {}\n",
    "for line in os.listdir('./processed_people/'):\n",
    "        compare_file = './processed_people/%s' %line\n",
    "        if file != compare_file:\n",
    "            score = int(compat(file,compare_file))\n",
    "            print(\"Compat between %s\" %file, \"and %s\" %line, 'is %d' %score)\n",
    "            score_list.append(score)\n",
    "            score_dict[score] = line\n",
    "highest_score = sorted(score_list)[-1]\n",
    "print(highest_score)\n",
    "print(score_dict[highest_score])"
   ]
  },
  {
   "cell_type": "code",
   "execution_count": 45,
   "metadata": {},
   "outputs": [],
   "source": [
    "def best_match(file):\n",
    "    from match1_maker import compat\n",
    "    import os\n",
    "    import pandas as pd\n",
    "\n",
    "    #runs the compat function and produce and list of scores and dictionary\n",
    "    #scores are sorted and the highest score is picked\n",
    "    score_list = []\n",
    "    score_dict = {}\n",
    "    for line in os.listdir('./processed_people/'):\n",
    "            compare_file = './processed_people/%s' %line\n",
    "            if file != compare_file:\n",
    "                score = int(compat(file,compare_file))\n",
    "                score_list.append(score)\n",
    "                score_dict[score] = line\n",
    "    highest_score = sorted(score_list)[-1]\n",
    "    highest_person = score_dict[highest_score]\n",
    "    #create pd dataframe from json file\n",
    "\n",
    "    df_person1 = pd.read_json(file)\n",
    "    df_person2 = pd.read_json('./processed_people/%s' %highest_person)\n",
    "\n",
    "    #processing data into dict\n",
    "    person1 = {}\n",
    "    for i, value in enumerate(df_person1['Value']):\n",
    "        person1[i] = value\n",
    "    person2 = {}\n",
    "    for i, value in enumerate(df_person2['Value']):\n",
    "        person2[i] = value\n",
    "\n",
    "    #turn pd dataframe into list format for easier use\n",
    "    #this list only has the value in order\n",
    "    person1_list = []\n",
    "    person2_list = []\n",
    "    for i in person1:\n",
    "        person1_list.append(person1[i])\n",
    "    for i in person2:\n",
    "        person2_list.append(person2[i])\n",
    "\n",
    "    return print(\"%s\" %person1_list[0],\"and\", \"%s\" %person2_list[0], 'have the highest compatibility score of %s points' %highest_score)\n",
    "        "
   ]
  },
  {
   "cell_type": "code",
   "execution_count": 49,
   "metadata": {},
   "outputs": [
    {
     "name": "stdout",
     "output_type": "stream",
     "text": [
      "Way Woe and Sydney Steinfield have the highest compatibility score of 81 points\n"
     ]
    }
   ],
   "source": [
    "best_match('./processed_people/WayWoe.json')"
   ]
  },
  {
   "cell_type": "code",
   "execution_count": 48,
   "metadata": {},
   "outputs": [
    {
     "name": "stdout",
     "output_type": "stream",
     "text": [
      "Sydney Steinfield and Jerry Steinfield have the highest compatibility score of 74 points\n"
     ]
    }
   ],
   "source": [
    "best_match('./processed_people/SydneySteinfield.json')"
   ]
  },
  {
   "cell_type": "code",
   "execution_count": null,
   "metadata": {},
   "outputs": [],
   "source": []
  }
 ],
 "metadata": {
  "kernelspec": {
   "display_name": "Python 3.10.7 64-bit (microsoft store)",
   "language": "python",
   "name": "python3"
  },
  "language_info": {
   "codemirror_mode": {
    "name": "ipython",
    "version": 3
   },
   "file_extension": ".py",
   "mimetype": "text/x-python",
   "name": "python",
   "nbconvert_exporter": "python",
   "pygments_lexer": "ipython3",
   "version": "3.10.7"
  },
  "orig_nbformat": 4,
  "vscode": {
   "interpreter": {
    "hash": "316074517b5fe31c6053ad3df028de4621616c745734923c4443afbd31c8a500"
   }
  }
 },
 "nbformat": 4,
 "nbformat_minor": 2
}
