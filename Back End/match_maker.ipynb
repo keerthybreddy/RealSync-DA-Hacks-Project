{
 "cells": [
  {
   "cell_type": "markdown",
   "metadata": {},
   "source": [
    "In a smarter world, I would use some complicated algo to help me find the compatibility between two people. However, since time is limited. I will resort to just finding the similarity rating between two strings (out of 1)"
   ]
  },
  {
   "cell_type": "code",
   "execution_count": 1,
   "metadata": {},
   "outputs": [],
   "source": [
    "from difflib import SequenceMatcher\n",
    "\n",
    "def similar(a, b):\n",
    "    return SequenceMatcher(None, a, b).ratio()"
   ]
  },
  {
   "cell_type": "code",
   "execution_count": 2,
   "metadata": {},
   "outputs": [
    {
     "data": {
      "text/plain": [
       "0.8"
      ]
     },
     "execution_count": 2,
     "metadata": {},
     "output_type": "execute_result"
    }
   ],
   "source": [
    "similar(\"Apple\",\"Appel\")"
   ]
  },
  {
   "cell_type": "markdown",
   "metadata": {},
   "source": [
    "Now, the goal is to output an number (up to 1)\n",
    "This number is the average similarity rating from all traits"
   ]
  },
  {
   "cell_type": "code",
   "execution_count": 21,
   "metadata": {},
   "outputs": [],
   "source": [
    "import os\n",
    "import pandas as pd\n",
    "\n",
    "file1 = './people/JonasLeeMysterio.json'\n",
    "file2 = './people/ThomasLi.json'\n",
    "\n",
    "df_person1 = pd.read_json(file1)\n",
    "df_person2 = pd.read_json(file2)"
   ]
  },
  {
   "cell_type": "code",
   "execution_count": 45,
   "metadata": {},
   "outputs": [],
   "source": [
    "person1 = {}\n",
    "for i, value in enumerate(df_person1['Value']):\n",
    "    person1[i] = value\n",
    "person2 = {}\n",
    "for i, value in enumerate(df_person2['Value']):\n",
    "    person2[i] = value"
   ]
  },
  {
   "cell_type": "code",
   "execution_count": 55,
   "metadata": {},
   "outputs": [],
   "source": [
    "person1_list = []\n",
    "person2_list = []\n",
    "\n",
    "for i in person1:\n",
    "    person1_list.append(person1[i])\n",
    "for i in person2:\n",
    "    person2_list.append(person2[i])"
   ]
  },
  {
   "cell_type": "code",
   "execution_count": 68,
   "metadata": {},
   "outputs": [
    {
     "name": "stdout",
     "output_type": "stream",
     "text": [
      "['Jonas Lee Mysterio', 18, 'Biology', 'Q5', 'she/her', 'soccer', 'nothing', 'chicken', 'cs club', 'panda express']\n",
      "['Thomas Li', 25, 'CS', 'Q1', 'she/her', 'snowboarding', 'nothing', 'chicken', 'cs club', 'panda express']\n"
     ]
    },
    {
     "ename": "TypeError",
     "evalue": "'dict' object is not callable",
     "output_type": "error",
     "traceback": [
      "\u001b[1;31m---------------------------------------------------------------------------\u001b[0m",
      "\u001b[1;31mTypeError\u001b[0m                                 Traceback (most recent call last)",
      "Cell \u001b[1;32mIn [68], line 7\u001b[0m\n\u001b[0;32m      4\u001b[0m similar \u001b[39m=\u001b[39m {}\n\u001b[0;32m      6\u001b[0m \u001b[39mfor\u001b[39;00m i, value \u001b[39min\u001b[39;00m \u001b[39menumerate\u001b[39m(person1_list):\n\u001b[1;32m----> 7\u001b[0m     similar[i] \u001b[39m=\u001b[39m similar(person1_list[i],person2_list[i])\n",
      "\u001b[1;31mTypeError\u001b[0m: 'dict' object is not callable"
     ]
    }
   ],
   "source": [
    "print(person1_list)\n",
    "print(person2_list)"
   ]
  },
  {
   "cell_type": "code",
   "execution_count": null,
   "metadata": {},
   "outputs": [],
   "source": []
  }
 ],
 "metadata": {
  "kernelspec": {
   "display_name": "Python 3.10.7 64-bit (microsoft store)",
   "language": "python",
   "name": "python3"
  },
  "language_info": {
   "codemirror_mode": {
    "name": "ipython",
    "version": 3
   },
   "file_extension": ".py",
   "mimetype": "text/x-python",
   "name": "python",
   "nbconvert_exporter": "python",
   "pygments_lexer": "ipython3",
   "version": "3.10.7"
  },
  "orig_nbformat": 4,
  "vscode": {
   "interpreter": {
    "hash": "316074517b5fe31c6053ad3df028de4621616c745734923c4443afbd31c8a500"
   }
  }
 },
 "nbformat": 4,
 "nbformat_minor": 2
}
