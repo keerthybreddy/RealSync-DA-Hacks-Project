{
 "cells": [
  {
   "cell_type": "markdown",
   "metadata": {},
   "source": [
    "In a smarter world, I would use some complicated algo to help me find the compatibility between two people. However, since time is limited. I will resort to just finding the similarity rating between two strings (out of 1)"
   ]
  },
  {
   "cell_type": "code",
   "execution_count": 1,
   "metadata": {},
   "outputs": [],
   "source": [
    "from difflib import SequenceMatcher\n",
    "\n",
    "def similar(a, b):\n",
    "    return SequenceMatcher(None, a, b).ratio()"
   ]
  },
  {
   "cell_type": "code",
   "execution_count": 2,
   "metadata": {},
   "outputs": [
    {
     "data": {
      "text/plain": [
       "0.8"
      ]
     },
     "execution_count": 2,
     "metadata": {},
     "output_type": "execute_result"
    }
   ],
   "source": [
    "similar(\"Apple\",\"Appel\")"
   ]
  },
  {
   "cell_type": "markdown",
   "metadata": {},
   "source": [
    "Now, the goal is to output an number (up to 1)\n",
    "This number is the average similarity rating from all traits"
   ]
  },
  {
   "cell_type": "code",
   "execution_count": 4,
   "metadata": {},
   "outputs": [],
   "source": [
    "import os\n",
    "import pandas as pd\n",
    "\n",
    "file1 = './processed_people/JonasLeeMysterio.json'\n",
    "file2 = './processed_people/ThomasLi.json'\n",
    "\n",
    "df_person1 = pd.read_json(file1)\n",
    "df_person2 = pd.read_json(file2)"
   ]
  },
  {
   "cell_type": "code",
   "execution_count": 5,
   "metadata": {},
   "outputs": [],
   "source": [
    "person1 = {}\n",
    "for i, value in enumerate(df_person1['Value']):\n",
    "    person1[i] = value\n",
    "person2 = {}\n",
    "for i, value in enumerate(df_person2['Value']):\n",
    "    person2[i] = value"
   ]
  },
  {
   "cell_type": "code",
   "execution_count": 7,
   "metadata": {},
   "outputs": [],
   "source": [
    "person1_list = []\n",
    "person2_list = []\n",
    "\n",
    "for i in person1:\n",
    "    person1_list.append(person1[i])\n",
    "for i in person2:\n",
    "    person2_list.append(person2[i])"
   ]
  },
  {
   "cell_type": "code",
   "execution_count": 39,
   "metadata": {},
   "outputs": [
    {
     "name": "stdout",
     "output_type": "stream",
     "text": [
      "The compatibility rating between Jonas Lee Mysterio and Thomas Li is 62\n"
     ]
    }
   ],
   "source": [
    "counter = 0\n",
    "total = 0\n",
    "for a,b in zip(person1_list,person2_list): # zip is used to iterate over two items\n",
    "    if type(a) != int:\n",
    "        counter = counter + 1\n",
    "        total = total + similar(a,b)\n",
    "    if type(a) == int:\n",
    "        counter = counter + 1\n",
    "        dif = abs(a-b)\n",
    "        if dif > 5:\n",
    "            total = total\n",
    "        if dif > 10:\n",
    "            tota = total - 1\n",
    "        if dif <= 5 & dif > 0:\n",
    "            total = total + 1*(1/dif)\n",
    "        if dif == 0:\n",
    "            total = total + 1.2\n",
    "average = float(total / counter)\n",
    "percent = \"%d\" %(average*100)\n",
    "print(\"The compatibility rating between %s\" %person1_list[0],\n",
    "\"and\", \"%s\" %person2_list[0], 'is %s' %percent)\n"
   ]
  },
  {
   "cell_type": "code",
   "execution_count": 45,
   "metadata": {},
   "outputs": [],
   "source": [
    "def compat(file1,file2):\n",
    "    import os\n",
    "    import pandas as pd\n",
    "    #Equation for finding similarity between two strings out of 1\n",
    "    #for example: 0.8 score would be 80% similar\n",
    "    from difflib import SequenceMatcher\n",
    "    def similar(a, b):\n",
    "        return SequenceMatcher(None, a, b).ratio()\n",
    "    \n",
    "    #create pd dataframe from json file\n",
    "    df_person1 = pd.read_json(file1)\n",
    "    df_person2 = pd.read_json(file2)\n",
    "\n",
    "    #processing data into dict\n",
    "    person1 = {}\n",
    "    for i, value in enumerate(df_person1['Value']):\n",
    "        person1[i] = value\n",
    "    person2 = {}\n",
    "    for i, value in enumerate(df_person2['Value']):\n",
    "        person2[i] = value\n",
    "\n",
    "    #turn pd dataframe into list format for easier use\n",
    "    #this list only has the value in order\n",
    "    person1_list = []\n",
    "    person2_list = []\n",
    "    for i in person1:\n",
    "        person1_list.append(person1[i])\n",
    "    for i in person2:\n",
    "        person2_list.append(person2[i])\n",
    "    \n",
    "    #This algo compares the \n",
    "    counter = 0\n",
    "    total = 0\n",
    "    for a,b in zip(person1_list,person2_list): # zip is used to iterate over two items\n",
    "        if type(a) != int:\n",
    "            counter = counter + 1\n",
    "            total = total + similar(a,b)\n",
    "        if type(a) == int:\n",
    "            counter = counter + 1\n",
    "            dif = abs(a-b)\n",
    "            if dif > 5:\n",
    "                total = total\n",
    "            if dif > 10:\n",
    "                tota = total - 1\n",
    "            if dif <= 5 & dif > 0:\n",
    "                total = total + 1*(1/dif)\n",
    "            if dif == 0:\n",
    "                total = total + 1.2\n",
    "    average = float(total / counter)\n",
    "    percent = \"%d\" %(average*100)\n",
    "\n",
    "    return print(\"The compatibility rating between %s\" %person1_list[0],\"and\", \"%s\" %person2_list[0], 'is %s' %percent)"
   ]
  },
  {
   "cell_type": "code",
   "execution_count": 48,
   "metadata": {},
   "outputs": [
    {
     "name": "stdout",
     "output_type": "stream",
     "text": [
      "The compatibility rating between Sydney Steinfield and Jerry Steinfield is 74\n"
     ]
    }
   ],
   "source": [
    "compat('./processed_people/SydneySteinfield.json','./processed_people/JerrySteinfield.json')"
   ]
  },
  {
   "cell_type": "code",
   "execution_count": null,
   "metadata": {},
   "outputs": [],
   "source": []
  }
 ],
 "metadata": {
  "kernelspec": {
   "display_name": "Python 3.10.7 64-bit (microsoft store)",
   "language": "python",
   "name": "python3"
  },
  "language_info": {
   "codemirror_mode": {
    "name": "ipython",
    "version": 3
   },
   "file_extension": ".py",
   "mimetype": "text/x-python",
   "name": "python",
   "nbconvert_exporter": "python",
   "pygments_lexer": "ipython3",
   "version": "3.10.7"
  },
  "orig_nbformat": 4,
  "vscode": {
   "interpreter": {
    "hash": "316074517b5fe31c6053ad3df028de4621616c745734923c4443afbd31c8a500"
   }
  }
 },
 "nbformat": 4,
 "nbformat_minor": 2
}
